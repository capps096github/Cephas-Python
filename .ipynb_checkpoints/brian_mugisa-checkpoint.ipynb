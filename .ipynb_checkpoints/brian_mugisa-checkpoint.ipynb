{
 "cells": [
  {
   "cell_type": "code",
   "execution_count": 1,
   "id": "67a94340",
   "metadata": {},
   "outputs": [
    {
     "name": "stdout",
     "output_type": "stream",
     "text": [
      "Hi Cephas\n"
     ]
    }
   ],
   "source": [
    "print(\"Hi Cephas\")"
   ]
  },
  {
   "cell_type": "code",
   "execution_count": 2,
   "id": "219cd1f8",
   "metadata": {},
   "outputs": [
    {
     "name": "stdout",
     "output_type": "stream",
     "text": [
      "Hello \" Jeff\n"
     ]
    }
   ],
   "source": [
    "print('Hello \" Jeff')"
   ]
  },
  {
   "cell_type": "code",
   "execution_count": 10,
   "id": "ce3a7e1f",
   "metadata": {},
   "outputs": [
    {
     "name": "stdout",
     "output_type": "stream",
     "text": [
      "Cephas Brian  ==  41000.0\n"
     ]
    }
   ],
   "source": [
    "c = \"Cephas \"\n",
    "b = \"Brian \"\n",
    "e = \" == \"\n",
    "price = 2000\n",
    "rate = 20.5\n",
    "\n",
    "qty = price * rate\n",
    "\n",
    "print(c + b +e , qty)"
   ]
  },
  {
   "cell_type": "code",
   "execution_count": 11,
   "id": "697da012",
   "metadata": {},
   "outputs": [
    {
     "name": "stdout",
     "output_type": "stream",
     "text": [
      "My name is Brian Mugisa and I am 20 years old\n",
      "My name is Brian Mugisa and I am 20 years old\n",
      "My name is Brian Mugisa and I am 20 years old\n",
      "My student number is 2000707823 and my registration number is 20/U/7823/PS\n",
      "My name is Brian Mugisa and I am 20 years old\n"
     ]
    }
   ],
   "source": [
    "name = \"Brian Mugisa\"\n",
    "age = 20\n",
    "\n",
    "studentNo = 2000707823\n",
    "registrationNumber = \"20/U/7823/PS\"\n",
    "\n",
    "print(\"My name is \" + name + \" and I am \" + str(age) + \" years old\")\n",
    "\n",
    "# print with format method, \n",
    "# this requires specifying the index at times or you can neglect it too\n",
    "print(\"My name is {} and I am {} years old\".format(name, age))\n",
    "\n",
    "print(\"My name is {0} and I am {1} years old\".format(name, age))\n",
    "\n",
    "# print my school details\n",
    "print(\"My student number is {} and my registration number is {}\".format(studentNo, registrationNumber))\n",
    "\n",
    "# print with f string\n",
    "print(f\"My name is {name} and I am {age} years old\")\n",
    "\n"
   ]
  },
  {
   "cell_type": "code",
   "execution_count": 2,
   "id": "795e7d2c",
   "metadata": {},
   "outputs": [
    {
     "name": "stdout",
     "output_type": "stream",
     "text": [
      "Jeff Brian True 22\n"
     ]
    }
   ],
   "source": [
    "age, name, isStudent = 22, \"Jeff Brian\", True\n",
    "\n",
    "print( name, isStudent, age)"
   ]
  },
  {
   "cell_type": "code",
   "execution_count": null,
   "id": "750c4806",
   "metadata": {},
   "outputs": [
    {
     "name": "stdout",
     "output_type": "stream",
     "text": [
      "Enter your name: \n"
     ]
    }
   ],
   "source": [
    "#get name from user\n",
    "print(\"Enter your name: \")\n",
    "name = input()\n",
    "\n",
    "#get color from user\n",
    "print(\"Enter your favorite color: \")\n",
    "color = input()\n",
    "\n",
    "print(name + \" likes \" + color)"
   ]
  },
  {
   "cell_type": "code",
   "execution_count": 1,
   "id": "6c47521a",
   "metadata": {},
   "outputs": [
    {
     "name": "stdout",
     "output_type": "stream",
     "text": [
      "x =  20\n",
      "y =  30\n",
      "z =  2\n",
      "a =  16.0\n"
     ]
    }
   ],
   "source": [
    "# multiplication first\n",
    "x = 2+3 * 6\n",
    "\n",
    "# brackets first\n",
    "y = (2+3) *6\n",
    "\n",
    "# modulus\n",
    "z = 23%7\n",
    "\n",
    "# combined operators\n",
    "a = (5-1) * ((7+1)/(3-1))\n",
    "\n",
    "print(\"x = \", x)\n",
    "print(\"y = \", y)\n",
    "print(\"z = \", z)\n",
    "print(\"a = \", a)"
   ]
  },
  {
   "cell_type": "code",
   "execution_count": 1,
   "id": "0ba97142",
   "metadata": {},
   "outputs": [
    {
     "name": "stdout",
     "output_type": "stream",
     "text": [
      "x =  1  and of data type  <class 'int'>\n",
      "y =  2.8  and of data type  <class 'float'>\n",
      "z =  1j  and of data type  <class 'complex'>\n"
     ]
    }
   ],
   "source": [
    "# Python Numbers\n",
    "x = 1    # int\n",
    "y = 2.8  # float\n",
    "z = 1j   # complex\n",
    "\n",
    "# print them in format like x = value and of data type int\n",
    "print(\"x = \", x, \" and of data type \", type(x))\n",
    "print(\"y = \", y, \" and of data type \", type(y))\n",
    "print(\"z = \", z, \" and of data type \", type(z))\n"
   ]
  },
  {
   "cell_type": "code",
   "execution_count": 7,
   "id": "3c764676",
   "metadata": {},
   "outputs": [
    {
     "name": "stdout",
     "output_type": "stream",
     "text": [
      "---------------- - Casting - ----------------\n",
      "\n",
      "x =  1  was <class 'int'>  and now is  <class 'float'>  with a new value a =  1.0\n",
      "y =  2.8  was <class 'float'>  and now is  <class 'int'>  with a new value b =  2\n",
      "x =  1  was <class 'int'>  and now is  <class 'str'>  with a new value d =  1\n",
      "y =  2.8  was <class 'float'>  and now is  <class 'str'>  with a new value e =  2.8\n",
      "f =  3  was <class 'str'>  and now is  <class 'int'>  with a new value h =  3\n",
      "g =  4.456  was <class 'str'>  and now is  <class 'float'>  with a new value i =  4.456\n",
      "\n",
      "---------------- - Booleans - ----------------\n",
      "\n",
      "10 > 9 =  True  and of data type  <class 'bool'>\n",
      "10 == 9 =  False  and of data type  <class 'bool'>\n",
      "10 < 9 =  False  and of data type  <class 'bool'>\n",
      "\n",
      "---------------- - Operators - ----------------\n",
      "\n",
      "Addition: \n",
      "x + y =  3.8\n",
      "Subtraction: \n",
      "x - y =  -1.7999999999999998\n",
      "Multiplication: \n",
      "x * y =  2.8\n",
      "Division: \n",
      "x / y =  0.35714285714285715\n",
      "Modulus: \n",
      "x % y =  1.0\n",
      "Exponentiation: \n",
      "x ** y =  1.0\n",
      "Floor Division: \n",
      "x // y =  0.0\n",
      "\n",
      "---------------- - Assignment Operators - ----------------\n",
      "\n"
     ]
    }
   ],
   "source": [
    "# Python Casting\n",
    "\n",
    "print(\"---------------- - Casting - ----------------\\n\")\n",
    "\n",
    "x = 1    # int\n",
    "y = 2.8  # float\n",
    "\n",
    "# convert from int to float\n",
    "a = float(x)\n",
    "\n",
    "# print in format like x = value was an old data type and now is a new data type\n",
    "print(\"x = \", x, \" was\", type(x), \" and now is \", type(a), \" with a new value a = \", a)\n",
    "\n",
    "# convert from float to int\n",
    "b = int(y)\n",
    "\n",
    "# print\n",
    "print(\"y = \", y, \" was\", type(y), \" and now is \", type(b), \" with a new value b = \", b)\n",
    "\n",
    "# Python Strings\n",
    "f = \"3\"\n",
    "g = \"4.456\"\n",
    "\n",
    "# convert from int to string\n",
    "d = str(x)\n",
    "\n",
    "# print\n",
    "print(\"x = \", x, \" was\", type(x), \" and now is \", type(d), \" with a new value d = \", d)\n",
    "\n",
    "# convert from float to string\n",
    "e = str(y)\n",
    "\n",
    "# print\n",
    "print(\"y = \", y, \" was\", type(y), \" and now is \", type(e), \" with a new value e = \", e)\n",
    "\n",
    "# convert from string to int\n",
    "h = int(f)\n",
    "\n",
    "# print\n",
    "print(\"f = \", f, \" was\", type(f), \" and now is \", type(h), \" with a new value h = \", h)\n",
    "\n",
    "# convert from string to float\n",
    "i = float(g)\n",
    "\n",
    "# print\n",
    "print(\"g = \", g, \" was\", type(g), \" and now is \", type(i), \" with a new value i = \", i)\n",
    "\n",
    "# Python Booleans\n",
    "print(\"\\n---------------- - Booleans - ----------------\\n\")\n",
    "\n",
    "# print in the format like x = value and of data type bool\n",
    "print(\"10 > 9 = \", (10 > 9), \" and of data type \", type(10 > 9))\n",
    "print(\"10 == 9 = \", (10 == 9), \" and of data type \", type(10 == 9))\n",
    "print(\"10 < 9 = \", (10 < 9), \" and of data type \", type(10 < 9))\n",
    "\n",
    "# Python Operators\n",
    "print(\"\\n---------------- - Operators - ----------------\\n\")\n",
    "\n",
    "# Arithmetic Operators\n",
    "# + - * / % ** //\n",
    "\n",
    "print(\"Addition: \")\n",
    "# addition in format like x + y = z printed\n",
    "print (\"x + y = \", x + y)\n",
    "\n",
    "print(\"Subtraction: \")\n",
    "# subtraction in format like x - y = z printed\n",
    "print (\"x - y = \", x - y)\n",
    "\n",
    "print(\"Multiplication: \")\n",
    "# multiplication in format like x * y = z printed\n",
    "print (\"x * y = \", x * y)\n",
    "\n",
    "print(\"Division: \")\n",
    "# division in format like x / y = z printed\n",
    "print (\"x / y = \", x / y)\n",
    "\n",
    "print(\"Modulus: \")\n",
    "# modulus in format like x % y = z printed\n",
    "print (\"x % y = \", x % y)\n",
    "\n",
    "print(\"Exponentiation: \")\n",
    "# exponentiation in format like x ** y = z printed\n",
    "print (\"x ** y = \", x ** y)\n",
    "\n",
    "print(\"Floor Division: \")\n",
    "# floor division in format like x // y = z printed\n",
    "print (\"x // y = \", x // y)\n",
    "\n",
    "# Assignment Operators\n",
    "# = += -= *= /= %= **= //=\n",
    "\n",
    "# %%\n",
    "print(\"\\n---------------- - Assignment Operators - ----------------\\n\")\n",
    "\n",
    "\n",
    "\n",
    "\n"
   ]
  },
  {
   "cell_type": "code",
   "execution_count": 13,
   "id": "c30e809c",
   "metadata": {},
   "outputs": [
    {
     "name": "stdout",
     "output_type": "stream",
     "text": [
      "Audi\n",
      "BMW\n",
      "Subaru\n",
      "Toyota\n",
      "\n",
      "---------------- - Inequality Operator - ----------------\n",
      "\n",
      "The 3rd car in the list is not a bmw\n"
     ]
    }
   ],
   "source": [
    "# list of cars of data type string i.e list[str]\n",
    "cars = ['audi', 'bmw', 'subaru', 'toyota']\n",
    "\n",
    "# loop through the list of cars\n",
    "for car in cars:\n",
    "    if car == 'bmw':\n",
    "        # use upper() to print BMW in uppercase\n",
    "        print(car.upper())\n",
    "    else:\n",
    "        # use title() to print the rest in title case by capitalizing the first letter\n",
    "        print(car.title())\n",
    "\n",
    "# inequality operator\n",
    "print(\"\\n---------------- - Inequality Operator - ----------------\\n\")\n",
    "\n",
    "# check if the 3rd car in the list is not a bmw\n",
    "if cars[2] != 'bmw':\n",
    "    print(\"The 3rd car in the list is not a bmw\")\n",
    "else:\n",
    "    print(\"The 3rd car in the list is a bmw\")\n",
    "        "
   ]
  },
  {
   "cell_type": "code",
   "execution_count": 14,
   "id": "b7c8947e",
   "metadata": {},
   "outputs": [
    {
     "name": "stdout",
     "output_type": "stream",
     "text": [
      "first is not equal to second\n",
      "first is less than second\n"
     ]
    }
   ],
   "source": [
    "# Inequality Operators in numbers\n",
    "\n",
    "first = 10\n",
    "second = 20\n",
    "\n",
    "# check if first and second are greater than or equal to 21\n",
    "if first >= 21 and second >= 21:\n",
    "    print(\"Both are greater than or equal to 21: \", (first >= 21 and second >= 21))\n",
    "\n",
    "# check if first is not equal to second\n",
    "if first != second:\n",
    "    print(\"first is not equal to second\")\n",
    "\n",
    "# check if first is greater than second\n",
    "if first > second:\n",
    "    print(\"first is greater than second\")\n",
    "\n",
    "# check if first is less than second\n",
    "if first < second:\n",
    "    print(\"first is less than second\")   "
   ]
  },
  {
   "cell_type": "code",
   "execution_count": 3,
   "id": "bb35430c",
   "metadata": {},
   "outputs": [
    {
     "name": "stdout",
     "output_type": "stream",
     "text": [
      "You can't vote now, wait for more  3  years to vote\n"
     ]
    }
   ],
   "source": [
    "# persons age\n",
    "age = 15\n",
    "\n",
    "eligibleAge = 18\n",
    "\n",
    "# check if person is eligible to vote i.e older than 18\n",
    "if age >= eligibleAge:\n",
    "    print(\"You are eligble to VOTE NOW\")\n",
    "else:\n",
    "    print(\"You can't vote now, wait for more \", eligibleAge - age, \" years to vote\")"
   ]
  },
  {
   "cell_type": "code",
   "execution_count": null,
   "id": "9ccb15c2",
   "metadata": {},
   "outputs": [],
   "source": []
  }
 ],
 "metadata": {
  "kernelspec": {
   "display_name": "Python 3 (ipykernel)",
   "language": "python",
   "name": "python3"
  },
  "language_info": {
   "codemirror_mode": {
    "name": "ipython",
    "version": 3
   },
   "file_extension": ".py",
   "mimetype": "text/x-python",
   "name": "python",
   "nbconvert_exporter": "python",
   "pygments_lexer": "ipython3",
   "version": "3.9.12"
  },
  "vscode": {
   "interpreter": {
    "hash": "369f2c481f4da34e4445cda3fffd2e751bd1c4d706f27375911949ba6bb62e1c"
   }
  }
 },
 "nbformat": 4,
 "nbformat_minor": 5
}
