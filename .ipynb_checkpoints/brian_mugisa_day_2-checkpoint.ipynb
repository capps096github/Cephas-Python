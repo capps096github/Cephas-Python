{
 "cells": [
  {
   "cell_type": "code",
   "execution_count": null,
   "metadata": {},
   "outputs": [],
   "source": [
    "# create a list of cars of type list[str] and apply all the methods of the list while printing after each method\n",
    "\n",
    "# list\n",
    "cars = [\"toyota\", \"honda\", \"bmw\", \"mercedes\", \"audi\", \"lexus\", \"volkswagen\", \"ford\", \"nissan\", \"mitsubishi\"]\n",
    "\n",
    "# print the list\n",
    "print(cars)\n",
    "\n",
    "# append a car to the list\n",
    "cars.append(\"kia\")\n",
    "print(cars)\n",
    "\n",
    "# insert a car to the list\n",
    "cars.insert(0, \"chevrolet\")\n",
    "print(cars)\n",
    "\n",
    "# remove a car from the list\n",
    "cars.remove(\"kia\")\n",
    "print(cars)\n",
    "\n",
    "# pop a car from the list\n",
    "cars.pop()\n",
    "print(cars)\n",
    "\n",
    "# sort the list\n",
    "cars.sort()\n",
    "print(cars)\n",
    "\n",
    "# reverse the list\n",
    "cars.reverse()\n",
    "print(cars)\n",
    "\n",
    "# count the number of cars in the list\n",
    "print(\"We have \" + str(len(cars)) + \" cars in the list\")\n",
    "\n",
    "\n"
   ]
  },
  {
   "cell_type": "code",
   "execution_count": 23,
   "metadata": {},
   "outputs": [
    {
     "name": "stdout",
     "output_type": "stream",
     "text": [
      "This tuple of cars =  ('toyota', 'honda', 'bmw', 'mercedes', 'audi', 'lexus', 'volkswagen', 'ford', 'nissan', 'mitsubishi')\n",
      "\n",
      "\n",
      "\n",
      "--- A tuple of cars in a loop ---\n",
      "\n",
      "a) With next() function\n",
      "\n",
      "- toyota\n",
      "- honda\n",
      "- bmw\n",
      "- mercedes\n",
      "- audi\n",
      "- lexus\n",
      "- volkswagen\n",
      "- ford\n",
      "- nissan\n",
      "- mitsubishi\n",
      "\n",
      "b) Without next() function\n",
      "\n",
      "* toyota\n",
      "* honda\n",
      "* bmw\n",
      "* mercedes\n",
      "* audi\n",
      "* lexus\n",
      "* volkswagen\n",
      "* ford\n",
      "* nissan\n",
      "* mitsubishi\n"
     ]
    }
   ],
   "source": [
    "# Python Iterators\n",
    "\n",
    "# create a cars tuple of type tuple[str] and apply all the methods of the tuple while printing after each method\n",
    "\n",
    "# tuple\n",
    "cars = (\"toyota\", \"honda\", \"bmw\", \"mercedes\", \"audi\", \"lexus\", \"volkswagen\", \"ford\", \"nissan\", \"mitsubishi\")\n",
    "\n",
    "# print the tuple\n",
    "print(\"This tuple of cars = \",cars)\n",
    "\n",
    "# iterators\n",
    "cars_iterator = iter(cars)\n",
    "\n",
    "# go to the next line\n",
    "print(\"\\n\")\n",
    "\n",
    "print(\"\\n--- A tuple of cars in a loop ---\\n\")\n",
    "\n",
    "print(\"a) With next() function\\n\")\n",
    "# for each loop on the tuple\n",
    "for car in cars:\n",
    "    print(\"- {}\".format( next(cars_iterator)))\n",
    "    \n",
    "    \n",
    "# Looping without the next function\n",
    "print(\"\\nb) Without next() function\\n\")\n",
    "for car in cars:\n",
    "    print(\"* \"+ car)"
   ]
  },
  {
   "cell_type": "code",
   "execution_count": null,
   "metadata": {},
   "outputs": [],
   "source": [
    "# Looping "
   ]
  },
  {
   "cell_type": "code",
   "execution_count": null,
   "metadata": {},
   "outputs": [],
   "source": []
  }
 ],
 "metadata": {
  "kernelspec": {
   "display_name": "Python 3 (ipykernel)",
   "language": "python",
   "name": "python3"
  },
  "language_info": {
   "codemirror_mode": {
    "name": "ipython",
    "version": 3
   },
   "file_extension": ".py",
   "mimetype": "text/x-python",
   "name": "python",
   "nbconvert_exporter": "python",
   "pygments_lexer": "ipython3",
   "version": "3.9.12"
  },
  "vscode": {
   "interpreter": {
    "hash": "369f2c481f4da34e4445cda3fffd2e751bd1c4d706f27375911949ba6bb62e1c"
   }
  }
 },
 "nbformat": 4,
 "nbformat_minor": 2
}
