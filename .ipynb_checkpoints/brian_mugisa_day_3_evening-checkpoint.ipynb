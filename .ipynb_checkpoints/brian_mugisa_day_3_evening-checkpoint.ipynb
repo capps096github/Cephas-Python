{
 "cells": [
  {
   "cell_type": "code",
   "execution_count": 10,
   "id": "5b015f03",
   "metadata": {},
   "outputs": [
    {
     "name": "stdout",
     "output_type": "stream",
     "text": [
      "◉ Name:  Cephas Brian\n",
      "◉ Characters:  12\n",
      "◉ FULL NAME:  CEPHAS BRIAN\n",
      "◉ Username:  @cephas_brian\n",
      "\n",
      "* The name Cephas Brian contains Brian\n",
      "* The Username cephas_brian from Cephas Brian contains Brian\n",
      "\n",
      "* The Username cephas_brian from Cephas Brian contains Brian\n",
      "\n",
      "* First 5 Characters:  Cephas\n",
      "* First Character:  C\n",
      "* Last Character:  n\n",
      "* Last 5 Characters:  Bria\n",
      "* Last 5 Characters:   Brian\n",
      "\n",
      "* A loop through  Cephas Brian\n",
      "C\n",
      "e\n",
      "p\n",
      "h\n",
      "a\n",
      "s\n",
      " \n",
      "B\n",
      "r\n",
      "i\n",
      "a\n",
      "n\n"
     ]
    }
   ],
   "source": [
    "# Python Strings\n",
    "name = \"Cephas Brian\"\n",
    "\n",
    "# Additonal Functions\n",
    "print(\"◉ Name: \", name)\n",
    "\n",
    "print(\"◉ Characters: \", len(name))\n",
    "\n",
    "print(\"◉ FULL NAME: \", name.upper())\n",
    "\n",
    "username = name.strip().lower().replace(\" \",\"_\")\n",
    "\n",
    "print(\"◉ Username: \", \"@\" + username + \"\\n\")\n",
    "\n",
    "if \"Brian\" in name:\n",
    "    print(\"* The name {} contains {}\".format(name, \"Brian\"))\n",
    "    print(\"* The Username {0} from {1} contains {2}\".format(username, name, \"Brian\") + \"\\n\")\n",
    "    print(\"* The Username {username} from {name} contains Brian\\n\".format(username=username, name=name))\n",
    "\n",
    "print(\"* First 5 Characters: \", name[0:6])\n",
    "\n",
    "print(\"* First Character: \", name[0])\n",
    "\n",
    "print(\"* Last Character: \", name[-1])\n",
    "\n",
    "print(\"* Last 5 Characters: \", name[-5:-1])\n",
    "\n",
    "print(\"* Last 5 Characters: \", name[6:])\n",
    "\n",
    "print(\"\\n* A loop through \", name)\n",
    "for x in name:\n",
    "    print(x)"
   ]
  },
  {
   "cell_type": "code",
   "execution_count": 42,
   "id": "03fc6f60",
   "metadata": {},
   "outputs": [
    {
     "name": "stdout",
     "output_type": "stream",
     "text": [
      "Hello, My name is Cephas Brian and I am 2 years old.\n",
      "Hello, My name is Brianna and I am 1 years old.\n",
      "Hello, My name is Alexa and I am 1 years old.\n",
      "\n",
      "* Formatted: CEPHAS BRIAN's Details:\n",
      "- Name: Cephas Brian\n",
      "- Age: 2 years old.\n",
      "- Location (Country): Uganda\n",
      "- Username:  @xephas_official\n",
      "\n",
      "\n",
      "* Formatted: BRIANNA's Details:\n",
      "- Name: Brianna\n",
      "- Age: 1 year old.\n",
      "- Location (Country): Uganda\n",
      "- Username:  @officialna\n",
      "\n",
      "\n",
      "* Formatted: ALEXA's Details:\n",
      "- Name: Alexa\n",
      "- Age: 1 year old.\n",
      "- Location (Country): USA\n",
      "- Username:  @alexa\n",
      "\n"
     ]
    }
   ],
   "source": [
    "# Pythton Objects and Classes\n",
    "\n",
    "# class Person with name, age, and country\n",
    "class Person:\n",
    "    def __init__(self , name, age, country):\n",
    "        self .name = name\n",
    "        self .age = age\n",
    "        self .country = country\n",
    "\n",
    "    def details(self ):\n",
    "        print(\"Hello, My name is \" + self.name + \" and I am \" + str(self.age) + \" years old.\")\n",
    "\n",
    "    def formatDetails(self ): \n",
    "        age_suffix = \"years\" if((self.age) > 1) else \"year\"\n",
    "        print(f\"\\n* Formatted: {(self.name).upper()}'s Details:\\n- Name: {self .name}\\n- Age: {str(self.age)} {age_suffix} old.\\n- Location (Country): {self.country}\")\n",
    "        username = (self.name).strip().lower().replace(\" \",\"_\").replace(\"c\",\"x\").replace(\"brian\",\"official\")\n",
    "        print(\"- Username: \", \"@\" + username + \"\\n\")\n",
    "\n",
    "# Create an object of the class Person\n",
    "cephas = Person(\"Cephas Brian\", 2, \"Uganda\")\n",
    "brianna = Person(\"Brianna\", 1, \"Uganda\")\n",
    "alexa = Person(\"Alexa\", 1, \"USA\")\n",
    "\n",
    "# Print the object\n",
    "cephas.details()\n",
    "brianna.details()\n",
    "alexa.details()\n",
    "\n",
    "# list of all persons\n",
    "persons = [cephas, brianna, alexa]\n",
    "\n",
    "# loop through the list of persons and print their details\n",
    "for person in persons:\n",
    "    person.formatDetails()\n"
   ]
  },
  {
   "cell_type": "code",
   "execution_count": 37,
   "id": "4d4d01fd",
   "metadata": {},
   "outputs": [
    {
     "ename": "IndentationError",
     "evalue": "expected an indented block (4266654944.py, line 11)",
     "output_type": "error",
     "traceback": [
      "\u001b[1;36m  Input \u001b[1;32mIn [37]\u001b[1;36m\u001b[0m\n\u001b[1;33m    class Taxi(Car):\u001b[0m\n\u001b[1;37m                    ^\u001b[0m\n\u001b[1;31mIndentationError\u001b[0m\u001b[1;31m:\u001b[0m expected an indented block\n"
     ]
    }
   ],
   "source": [
    "# Python Inheritance\n",
    "\n",
    "class Car:\n",
    "    def __init__(self, make, manufacturer, yearOfManufacture, numberOfPassengers ):\n",
    "        self.make =make\n",
    "        self.manufacturer = manufacturer\n",
    "        self.yearOfManufacture = yearOfManufacture\n",
    "        \n",
    "    def details(self):\n",
    "        \n",
    "class Taxi(Car):\n",
    "    def __init__(self,name, manufacturer, yearOfManufacture, numberOfPassengers, sound )\n",
    "    super().__init__(make, manufacturer, yearOfManufacture, numberOfPassengers )\n",
    "    self.sound = sound\n",
    "    \n",
    "    def details(self):\n",
    "        print(\"Taxi Details\")\n",
    "        print(f\"- Car Type: {self.make}\")\n",
    "        \n",
    "class Spacio(Car):\n",
    "     def __init__(self,name, manufacturer, yearOfManufacture, numberOfPassengers, sound )\n",
    "     super().__init__(make, manufacturer, yearOfManufacture, numberOfPassengers )\n",
    "   \n",
    "     def drive():\n",
    "        \n",
    "class Rover(Car):\n",
    "    pass\n",
    "    "
   ]
  },
  {
   "cell_type": "code",
   "execution_count": null,
   "id": "4eefe348",
   "metadata": {},
   "outputs": [],
   "source": []
  }
 ],
 "metadata": {
  "kernelspec": {
   "display_name": "Python 3 (ipykernel)",
   "language": "python",
   "name": "python3"
  },
  "language_info": {
   "codemirror_mode": {
    "name": "ipython",
    "version": 3
   },
   "file_extension": ".py",
   "mimetype": "text/x-python",
   "name": "python",
   "nbconvert_exporter": "python",
   "pygments_lexer": "ipython3",
   "version": "3.9.12"
  },
  "vscode": {
   "interpreter": {
    "hash": "369f2c481f4da34e4445cda3fffd2e751bd1c4d706f27375911949ba6bb62e1c"
   }
  }
 },
 "nbformat": 4,
 "nbformat_minor": 5
}
