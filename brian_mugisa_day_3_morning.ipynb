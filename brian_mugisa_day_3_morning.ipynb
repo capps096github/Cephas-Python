{
 "cells": [
  {
   "cell_type": "code",
   "execution_count": null,
   "id": "803d0eba",
   "metadata": {},
   "outputs": [],
   "source": [
    "import pandas as pd\n",
    "import matplotlib.pyplot as plt\n",
    "\n",
    "mydataset = {\n",
    "   'cars' : [\"Tesla\",\"Audi\", \"Jeep\"],\n",
    "    'years of make': [2021,2017,2020]\n",
    "}\n",
    "\n",
    "myvar = pd.DataFrame(mydataset)\n",
    "\n",
    "# plot this data\n",
    "myvar.plot()\n",
    "plt.show()\n",
    "\n",
    "\n",
    "print(myvar)"
   ]
  },
  {
   "cell_type": "code",
   "execution_count": null,
   "id": "589166fe",
   "metadata": {
    "scrolled": true
   },
   "outputs": [],
   "source": [
    "# Reading a CSV file using pandas\n",
    "import pandas as pd\n",
    "\n",
    "music = pd.read_csv('music.csv')\n",
    "    \n",
    "print (music.to_string())\n",
    "\n",
    "transact = pd.read_csv('transactions.csv')\n",
    "print (transact.to_string())\n",
    "\n",
    "\n"
   ]
  },
  {
   "cell_type": "code",
   "execution_count": null,
   "id": "3a62a04f",
   "metadata": {},
   "outputs": [],
   "source": [
    "# reading a data sets using pandas from series\n",
    "\n",
    "import pandas as pd\n",
    "import matplotlib.pyplot as plt\n",
    "\n",
    "# create a data set of dogs and their ages and weight\n",
    "dogs = pd.Series([10, 15, 20, 25, 30, 35, 40, 45, 50, 55, 60, 65, 70, 75, 80, 85, 90, 95, 100], index=['Bingo', 'Buster', 'Buddy', 'Bullseye', 'Butch', 'Butters', 'Buttercup', 'Candy', 'Casper', 'Coco', 'Cookie', 'Daisy', 'Duke', 'Fido', 'Fluffy', 'Gizmo', 'Gunner', 'Honey', 'Jack'])\n",
    "\n",
    "# plot a histogram of the data set\n",
    "dogs.plot.hist()\n",
    "\n",
    "# show the plot\n",
    "plt.show()\n",
    "\n",
    "# plot this data\n",
    "# dogs.plot()\n",
    "\n",
    "# show the plot\n",
    "# plt.show()\n",
    "\n",
    "# print the data set\n",
    "print(dogs)\n"
   ]
  },
  {
   "cell_type": "code",
   "execution_count": null,
   "id": "8cd88cce",
   "metadata": {},
   "outputs": [],
   "source": [
    "# reading actual data sets using pandas\n",
    "\n",
    "import pandas as pd\n",
    "\n",
    "# read the admissions data set csv\n",
    "admissions = pd.read_csv('admissions.csv')\n",
    "\n",
    "# print the first 5 rows of the data set\n",
    "# print(\"Admissions Head \\n\", admissions.head())\n",
    "\n",
    "# print the last 5 rows of the data set\n",
    "# print(\"Admissions Tail \\n\",admissions.tail())\n",
    "\n",
    "# print all the rows of the data set\n",
    "# print(admissions.to_string())\n",
    "\n",
    "# describe the data set\n",
    "admissions.describe()\n",
    "\n",
    "# get info of the data set\n",
    "admissions.info()\n",
    "\n",
    "# shape of the data set\n",
    "admissions.shape\n",
    "\n",
    "# get the column names of the data set\n",
    "admissions.columns\n",
    "\n",
    "# get the index of the data set\n",
    "admissions.index\n",
    "\n",
    "# show null values in the data set\n",
    "admissions.isnull()\n",
    "\n",
    "# count the null values in the data set\n",
    "admissions.isnull().sum()\n",
    "\n",
    "# drop the null values in the data set\n",
    "admissions.dropna()"
   ]
  },
  {
   "cell_type": "code",
   "execution_count": null,
   "id": "d506d5fd",
   "metadata": {},
   "outputs": [],
   "source": [
    "#reading data sets using pandas, but this time dropping the null values in that data set and printing the data set\n",
    "\n",
    "import pandas as pd\n",
    "\n",
    "# read the admissions data set csv\n",
    "students = pd.read_csv('students.csv')\n",
    "\n",
    "# check for null values\n",
    "students.isnull().sum()\n",
    "\n",
    "# drop the null values in the data set\n",
    "new_students = students.dropna()\n",
    "\n",
    "# print the data set\n",
    "# print(new_students.to_string())\n",
    "\n",
    "# print the shape of the data set\n",
    "print(new_students.shape)"
   ]
  },
  {
   "cell_type": "code",
   "execution_count": null,
   "id": "10583074",
   "metadata": {},
   "outputs": [],
   "source": [
    "# Data Visulaization using pandas\n",
    "import pandas as pd\n",
    "import matplotlib.pyplot as plt\n",
    "\n",
    "# read the admissions data set csv\n",
    "admissions = pd.read_csv('admissions.csv')\n",
    "\n",
    "# plot the data set\n",
    "# admissions.plot()\n",
    "\n",
    "# show the plot\n",
    "# plt.show()\n",
    "\n",
    "# jeff.geoff.cis@gmail.com\n",
    "\n",
    "\n"
   ]
  },
  {
   "cell_type": "code",
   "execution_count": null,
   "id": "dd986148",
   "metadata": {},
   "outputs": [],
   "source": []
  }
 ],
 "metadata": {
  "kernelspec": {
   "display_name": "Python 3 (ipykernel)",
   "language": "python",
   "name": "python3"
  },
  "language_info": {
   "codemirror_mode": {
    "name": "ipython",
    "version": 3
   },
   "file_extension": ".py",
   "mimetype": "text/x-python",
   "name": "python",
   "nbconvert_exporter": "python",
   "pygments_lexer": "ipython3",
   "version": "3.10.6"
  },
  "vscode": {
   "interpreter": {
    "hash": "369f2c481f4da34e4445cda3fffd2e751bd1c4d706f27375911949ba6bb62e1c"
   }
  }
 },
 "nbformat": 4,
 "nbformat_minor": 5
}
