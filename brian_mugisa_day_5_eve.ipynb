{
 "cells": [
  {
   "cell_type": "code",
   "execution_count": 9,
   "id": "1844f59c",
   "metadata": {},
   "outputs": [
    {
     "name": "stdout",
     "output_type": "stream",
     "text": [
      "This is MAN U: \n",
      " Nickname: The Europa League\n",
      " Stadium: Red Devils\n",
      " Coach: Old-Trafford\n",
      " League: Erik ten Hag\n",
      "\n",
      "This is NottingHam: \n",
      " Nickname: The Premier League\n",
      " Stadium: Notts\n",
      " Coach: NottingHam Arena\n",
      " League: Erik Nott\n",
      "\n",
      "This is Arsenal - The Gunners: \n",
      "  - Stadium: Emirates Stadium\n",
      "  - Coach: Mikel Arteta\n",
      "  - League: Premier League\n",
      "  - Sponsor: Fly Emirates\n",
      "\n"
     ]
    }
   ],
   "source": [
    "class Team:\n",
    "    def __init__(self, name, stadium, coach, league, nickname):\n",
    "        self.name = name\n",
    "        self.coach = coach\n",
    "        self.stadium = stadium\n",
    "        self.league = league\n",
    "        self.nickname = nickname\n",
    "        \n",
    "    def details(self):\n",
    "        print(f\"This is {self.name}: \\n Nickname: The {self.nickname}\\n Stadium: {self.stadium}\\n Coach: {self.coach}\\n League: {self.league}\\n\")\n",
    "        \n",
    "class Arsenal(Team):\n",
    "    def __init__(self, name,nickname, stadium, coach, league, sponsor):\n",
    "        super().__init__(name, stadium, coach, league, nickname)\n",
    "        self.sponsor = sponsor\n",
    "\n",
    "    def details(self):\n",
    "        print(f\"This is {self.name} - The {self.nickname}: \\n  - Stadium: {self.stadium}\\n  - Coach: {self.coach}\\n  - League: {self.league}\\n  - Sponsor: {self.sponsor}\\n\")\n",
    "\n",
    "\n",
    "class NottingHam(Team):\n",
    "    pass\n",
    "\n",
    "team = Team(\"MAN U\",\"Red Devils\", \"Old-Trafford\", \"Erik ten Hag\",\"Europa League\")\n",
    "team.details()\n",
    "\n",
    "team = NottingHam(\"NottingHam\",\"Notts\", \"NottingHam Arena\", \"Erik Nott\",\"Premier League\")\n",
    "team.details()\n",
    "\n",
    "arsenal = Arsenal(\"Arsenal\",\"Gunners\" ,\"Emirates Stadium\", \"Mikel Arteta\", \"Premier League\", \"Fly Emirates\")\n",
    "arsenal.details()\n",
    "        "
   ]
  },
  {
   "cell_type": "code",
   "execution_count": null,
   "id": "8b7fc7e6",
   "metadata": {},
   "outputs": [],
   "source": []
  }
 ],
 "metadata": {
  "kernelspec": {
   "display_name": "Python 3 (ipykernel)",
   "language": "python",
   "name": "python3"
  },
  "language_info": {
   "codemirror_mode": {
    "name": "ipython",
    "version": 3
   },
   "file_extension": ".py",
   "mimetype": "text/x-python",
   "name": "python",
   "nbconvert_exporter": "python",
   "pygments_lexer": "ipython3",
   "version": "3.10.6"
  },
  "vscode": {
   "interpreter": {
    "hash": "369f2c481f4da34e4445cda3fffd2e751bd1c4d706f27375911949ba6bb62e1c"
   }
  }
 },
 "nbformat": 4,
 "nbformat_minor": 5
}
