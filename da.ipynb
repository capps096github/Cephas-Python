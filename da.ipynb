{
 "cells": [
  {
   "cell_type": "code",
   "execution_count": 1,
   "id": "f6d3e70e",
   "metadata": {},
   "outputs": [
    {
     "name": "stdout",
     "output_type": "stream",
     "text": [
      "Hi Cephas\n"
     ]
    }
   ],
   "source": [
    "print(\"Hi Cephas\")"
   ]
  },
  {
   "cell_type": "code",
   "execution_count": 2,
   "id": "97c27a71",
   "metadata": {},
   "outputs": [
    {
     "name": "stdout",
     "output_type": "stream",
     "text": [
      "Hello \" Jeff\n"
     ]
    }
   ],
   "source": [
    "print('Hello \" Jeff')"
   ]
  },
  {
   "cell_type": "code",
   "execution_count": 10,
   "id": "11a45576",
   "metadata": {},
   "outputs": [
    {
     "name": "stdout",
     "output_type": "stream",
     "text": [
      "Cephas Brian  ==  41000.0\n"
     ]
    }
   ],
   "source": [
    "c = \"Cephas \"\n",
    "b = \"Brian \"\n",
    "e = \" == \"\n",
    "price = 2000\n",
    "rate = 20.5\n",
    "\n",
    "qty = price * rate\n",
    "\n",
    "print(c + b +e , qty)"
   ]
  },
  {
   "cell_type": "code",
   "execution_count": 1,
   "id": "26b61bee",
   "metadata": {},
   "outputs": [
    {
     "name": "stdout",
     "output_type": "stream",
     "text": [
      "Enter your name: \n",
      "Jeff\n",
      "Enter your favorite color: \n",
      "Grey\n",
      "Jeff likes Grey\n"
     ]
    }
   ],
   "source": [
    "#get name from user\n",
    "print(\"Enter your name: \")\n",
    "name = input()\n",
    "\n",
    "#get color from user\n",
    "print(\"Enter your favorite color: \")\n",
    "color = input()\n",
    "\n",
    "print(name + \" likes \" + color)"
   ]
  },
  {
   "cell_type": "code",
   "execution_count": null,
   "id": "1b8362ea",
   "metadata": {},
   "outputs": [],
   "source": []
  }
 ],
 "metadata": {
  "kernelspec": {
   "display_name": "Python 3.10.6 64-bit",
   "language": "python",
   "name": "python3"
  },
  "language_info": {
   "codemirror_mode": {
    "name": "ipython",
    "version": 3
   },
   "file_extension": ".py",
   "mimetype": "text/x-python",
   "name": "python",
   "nbconvert_exporter": "python",
   "pygments_lexer": "ipython3",
   "version": "3.10.6"
  },
  "vscode": {
   "interpreter": {
    "hash": "369f2c481f4da34e4445cda3fffd2e751bd1c4d706f27375911949ba6bb62e1c"
   }
  }
 },
 "nbformat": 4,
 "nbformat_minor": 5
}
